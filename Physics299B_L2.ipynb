{
 "cells": [
  {
   "cell_type": "markdown",
   "metadata": {},
   "source": [
    "## Last week:\n",
    "\n",
    "We covered a bunch of basic math commands (+,-,/,**) and variables: \n",
    "- int, float, list, \"string\", array (today: booleans, functions)\n",
    "- `type()` and `print()`\n",
    "\n",
    "We also introduced you to Numerical Python (numpy) arrays and basic plotting using matplotlib. "
   ]
  },
  {
   "cell_type": "code",
   "execution_count": null,
   "metadata": {
    "collapsed": true
   },
   "outputs": [],
   "source": [
    "import numpy as np"
   ]
  },
  {
   "cell_type": "markdown",
   "metadata": {},
   "source": [
    "Here we are calling in the contents of *numpy* and giving it the shorthand name 'np' for convenience.\n",
    "\n",
    "To create an array variable (let's call it 'x'), we simply assign 'x' to be equal to the output of the np.array() function, using a list as an input. You can then verify its contents by using the print() function."
   ]
  },
  {
   "cell_type": "code",
   "execution_count": null,
   "metadata": {
    "collapsed": false
   },
   "outputs": [],
   "source": [
    "x = np.array([1,2,3,4,5])\n",
    "print(x)"
   ]
  },
  {
   "cell_type": "markdown",
   "metadata": {},
   "source": [
    "As we learned in Lecture 1, *numpy arrays* are convenient because they allow us to do math across the whole array and not just individual numbers.\n",
    "\n",
    "For example, let's say we want to make a new variable 'y' such that y = $x^{2}$, then this is done simply as"
   ]
  },
  {
   "cell_type": "code",
   "execution_count": null,
   "metadata": {
    "collapsed": false
   },
   "outputs": [],
   "source": [
    "y = x**2\n",
    "print(y)"
   ]
  },
  {
   "cell_type": "markdown",
   "metadata": {},
   "source": [
    "Now let's say we wanted to plot y as a function of x. "
   ]
  },
  {
   "cell_type": "code",
   "execution_count": null,
   "metadata": {
    "collapsed": false
   },
   "outputs": [],
   "source": [
    "%matplotlib inline\n",
    "import matplotlib\n",
    "import matplotlib.pyplot as plt\n",
    "\n",
    "x = np.arange(1,10,.1)\n",
    "y = x**2\n",
    "\n",
    "p = plt.plot(x,y)"
   ]
  },
  {
   "cell_type": "markdown",
   "metadata": {},
   "source": [
    "# Lecture 2 - Logic, Loops, and Arrays\n",
    "\n",
    "Today, we will extend on the arrays\n",
    "\n",
    "1. The logic of Python, including **while loops** and **if/else** statements\n",
    "2. **Functions** and how to define new ones. \n",
    "3. A review of **numpy arrays** and a discussion of their usefulness in solving real problems\n",
    "4. Reading in **data** from text and numpy file formats, along with creating your own outputs to be used later\n",
    "    "
   ]
  },
  {
   "cell_type": "markdown",
   "metadata": {},
   "source": [
    "## A. Logic, If/Else, and Loops\n",
    "\n",
    "You can make conditional (logical) statements in Python, which return either \"True\" or \"False\", also known as \"Booleans.\""
   ]
  },
  {
   "cell_type": "code",
   "execution_count": null,
   "metadata": {
    "collapsed": false
   },
   "outputs": [],
   "source": [
    "#Example conditional statements\n",
    "x = 1\n",
    "y = 2\n",
    "x<y #x is less than y"
   ]
  },
  {
   "cell_type": "code",
   "execution_count": null,
   "metadata": {
    "collapsed": false
   },
   "outputs": [],
   "source": [
    "#x is greater than y\n",
    "x>y"
   ]
  },
  {
   "cell_type": "code",
   "execution_count": null,
   "metadata": {
    "collapsed": false
   },
   "outputs": [],
   "source": [
    "#x is less-than or equal to y\n",
    "x<=y"
   ]
  },
  {
   "cell_type": "code",
   "execution_count": null,
   "metadata": {
    "collapsed": false
   },
   "outputs": [],
   "source": [
    "#x is greater-than or equal to y\n",
    "x>=y"
   ]
  },
  {
   "cell_type": "markdown",
   "metadata": {},
   "source": [
    "If you let a and b be conditional statements (like the above statements, e.g. a = x < y), then you can combine the two together using logical operators, which can be thought of as functions for conditional statements.\n",
    "\n",
    "There are three logical operators that are handy to know:\n",
    "\n",
    "* **And** operator: ** `a and b`**\n",
    "    - outputs True only if both a and b are True\n",
    "* **Or** operator: **`a or b`**\n",
    "    - outputs True if at least one of a and b are True\n",
    "* **Not** operator: **`not(a)`**\n",
    "    - outputs the negation of a "
   ]
  },
  {
   "cell_type": "code",
   "execution_count": null,
   "metadata": {
    "collapsed": false
   },
   "outputs": [],
   "source": [
    "#Example of and operator\n",
    "(1<2) and (2<3)"
   ]
  },
  {
   "cell_type": "code",
   "execution_count": null,
   "metadata": {
    "collapsed": false
   },
   "outputs": [],
   "source": [
    "#Example of or operator\n",
    "(1<2) or (2>3)"
   ]
  },
  {
   "cell_type": "code",
   "execution_count": null,
   "metadata": {
    "collapsed": false
   },
   "outputs": [],
   "source": [
    "#Example of not operator\n",
    "not(1<2)"
   ]
  },
  {
   "cell_type": "markdown",
   "metadata": {},
   "source": [
    "Now, these might not seem especially useful at first, but they're the bread and butter of programming. Even more importantly, they are used when we are doing if/else statements or loops, which we will now cover.\n",
    "\n",
    "An `if/else` statement (or simply an if statement) are segments of code that have a conditional statement built into it, such that the code within that segment doesn't activate unless the conditional statement is true.\n",
    "\n",
    "Here's an example. Play around with the variables x and y to see what happens."
   ]
  },
  {
   "cell_type": "code",
   "execution_count": null,
   "metadata": {
    "collapsed": false
   },
   "outputs": [],
   "source": [
    "x = 1\n",
    "y = 2\n",
    "if (x < y):\n",
    "    print(\"Yup, totally true!\")\n",
    "else:\n",
    "    print(\"Nope, completely wrong!\")"
   ]
  },
  {
   "cell_type": "markdown",
   "metadata": {},
   "source": [
    "The idea here is that Python checks to see if the statement (in this case \"x < y\") is True. If it is, then it will do what is below the if statement. The else statement tells Python what to do if the condition is False.\n",
    "\n",
    "Note that Python requires you to indent these segments of code, and WILL NOT like it if you don't. Some languages don't require it, but Python is very particular when it comes to this point. (The parentheses around the conditional statement, however, are optional.)\n",
    "\n",
    "You also do not always need an \"else\" segment, which effectively means that if the condition isn't True, then that segment of code doesn't do anything, and Python will just continue on past the if statement.\n",
    "\n",
    "Here is an example of such a case.  Play around with it to see what happens when you change the values of x and y."
   ]
  },
  {
   "cell_type": "code",
   "execution_count": null,
   "metadata": {
    "collapsed": false
   },
   "outputs": [],
   "source": [
    "x = 2\n",
    "y = 1\n",
    "if (x > y):\n",
    "    print(\"x is greater than y\")"
   ]
  },
  {
   "cell_type": "markdown",
   "metadata": {},
   "source": [
    "Here's a more complicated case. Here, we introduce some logic that helps you figure out if two objects are equal or not. \n",
    "\n",
    "There's the `==` operator and the `!=` operator. Can you figure out what they mean?"
   ]
  },
  {
   "cell_type": "code",
   "execution_count": null,
   "metadata": {
    "collapsed": false
   },
   "outputs": [],
   "source": [
    "x = 2\n",
    "y = 2\n",
    "if (x == y):\n",
    "    print(\"x and y are equal\")\n",
    "if (x != y):\n",
    "    print(\"x and y are not equal\")\n",
    "if (x > y or x < y):\n",
    "    print(\"x and y are not equal (again!)\")"
   ]
  },
  {
   "cell_type": "markdown",
   "metadata": {},
   "source": [
    "While-loops are similar to if statements, in the sense that they also have a conditional statement built into them. The code inside the loop will execute when the conditional is True. And then it will check the conditional and, if it evaluates to True, the code will execute again. And so on and so forth...\n",
    "\n",
    "The funny thing about while-loops is that they will KEEP executing that segment of code until the conditional statement evaluates to False...which hopefully will happen...right?\n",
    "\n",
    "Although this seems a bit strange, you can get the hang of it!\n",
    "\n",
    "For example, let's say we want Python to count from 1 to 10."
   ]
  },
  {
   "cell_type": "code",
   "execution_count": null,
   "metadata": {
    "collapsed": false
   },
   "outputs": [],
   "source": [
    "x = 1\n",
    "while (x <= 10):\n",
    "    print(x)\n",
    "    x = x+1"
   ]
  },
  {
   "cell_type": "markdown",
   "metadata": {},
   "source": [
    "Note here that we tell Python to print the number x (x starts at 1) and then redefining x as itself +1 (so, x=1 gets redefined to x = x+1 = 1+1 = 2). Python then executes the loop again, but now x has been incremented by 1. We continue this process from x = 1 to x = 10, printing out x every time. Thus, with a fairly compact bit of code, you get 10 lines of output.\n",
    "\n",
    "It is sometimes handy to define what is known as a DUMMY VARIABLE, whose only job is to count the number of times the loop has been executed. Let's call this dummy variable i."
   ]
  },
  {
   "cell_type": "code",
   "execution_count": null,
   "metadata": {
    "collapsed": false
   },
   "outputs": [],
   "source": [
    "x = 2\n",
    "i = 0 #dummy variable\n",
    "while (i<10):\n",
    "    x = 2*x\n",
    "    print(x)\n",
    "    i = i+1 \n",
    "    #another way to write this is i+=1, but it's idiosyncratic and we won't use it here"
   ]
  },
  {
   "cell_type": "markdown",
   "metadata": {},
   "source": [
    "Food for though: what if the conditional statement is always true?"
   ]
  },
  {
   "cell_type": "markdown",
   "metadata": {},
   "source": [
    "## B. Defining Your Own Functions\n",
    "\n",
    "So far, we have focused on learning **built-in functions** (such as from *numpy* and *matplotlib*), but what about **defining our own**? This allows you to **clean up** your code, and **apply the same set of operations to multiple variables** without having to explicitly write them out every time.\n",
    "\n",
    "For example, let's say we want to define a function that takes the square root of a number. Let's check to make sure the number is positive first, so that we don't end up with an imaginary answer. "
   ]
  },
  {
   "cell_type": "code",
   "execution_count": null,
   "metadata": {
    "collapsed": false,
    "scrolled": true
   },
   "outputs": [],
   "source": [
    "#Defining a square root function\n",
    "def sqrt(x):\n",
    "    if (x < 0):\n",
    "        print(\"Your input is not positive!\")\n",
    "    else: \n",
    "        return x**(1/2)"
   ]
  },
  {
   "cell_type": "code",
   "execution_count": null,
   "metadata": {
    "collapsed": false
   },
   "outputs": [],
   "source": [
    "sqrt(4)"
   ]
  },
  {
   "cell_type": "code",
   "execution_count": null,
   "metadata": {
    "collapsed": false
   },
   "outputs": [],
   "source": [
    "sqrt(-4)"
   ]
  },
  {
   "cell_type": "markdown",
   "metadata": {},
   "source": [
    "So the outline for a function is\n",
    "```python\n",
    "def <function name> (<input variable>):\n",
    "    <some code here>\n",
    "    return <output variable>\n",
    "```\n",
    "\n",
    "In general, many common mathematical functions like sqrt, log, exp, sin, cos can be found in the *math* module. So we don't have to write our own - phew!"
   ]
  },
  {
   "cell_type": "code",
   "execution_count": null,
   "metadata": {
    "collapsed": false
   },
   "outputs": [],
   "source": [
    "import math\n",
    "print(math.sqrt(25))\n",
    "print(math.sin(math.pi/2))\n",
    "print(math.exp(math.pi)-math.pi)"
   ]
  },
  {
   "cell_type": "markdown",
   "metadata": {},
   "source": [
    "When defining your own functions, you can also use **multiple input variables**. For example, if we want to find the greatest common divisor (gcd) of two numbers, we could apply something called Euclid's algorithm.\n",
    "\n",
    "We define `gcd(a,0) = a`. Then we note that the `gcd(a,b) = gcd(b,r)`, where `r` is the remainder when  `a` is divided by `b`. (This follows easily from the fact that a = q*b + r for some integer q). So we can repeat this process until we end up with zero remainder. Then, we return whatever number is left in `a` as the greatest common divisor.\n",
    "\n",
    "A command you might not have encountered yet is `%`. The expression `x % y` returns the remainder when `x` is divided by `y`."
   ]
  },
  {
   "cell_type": "code",
   "execution_count": null,
   "metadata": {
    "collapsed": false
   },
   "outputs": [],
   "source": [
    "def gcd(a, b):\n",
    "    \"\"\"Calculate the Greatest Common Divisor of a and b.\n",
    "    \n",
    "    Unless b==0, the result will have the same sign as b (so that when\n",
    "    b is divided by it, the result comes out positive).\n",
    "    \"\"\"\n",
    "    while b > 0:\n",
    "        a, b = b, a%b\n",
    "    return a"
   ]
  },
  {
   "cell_type": "code",
   "execution_count": null,
   "metadata": {
    "collapsed": false
   },
   "outputs": [],
   "source": [
    "print(gcd(120,16))\n",
    "print(type(gcd))"
   ]
  },
  {
   "cell_type": "markdown",
   "metadata": {},
   "source": [
    "## Challenge 1 - Fibonacci Sequence and the Golden Ratio"
   ]
  },
  {
   "cell_type": "markdown",
   "metadata": {},
   "source": [
    "The Fibonacci sequence is defined by $f_{n+1} =f_n + f_{n-1}$ and the initial values $f_0 = 0$ and $f_1 = 1$. \n",
    "\n",
    "The first few elements of the sequence are: $0, 1, 1, 2, 3, 5, 8, 13, 21, 34, 55, 89, 144, 233, 377 ...$\n",
    "\n",
    "Using what you just learned about functions, define a function `fib`, which calculates the $n$-th element in the Fibonacci sequence. It should have one input variable, $n$ and its return value should be the $n$-th element in the Fibonacci sequence."
   ]
  },
  {
   "cell_type": "code",
   "execution_count": null,
   "metadata": {
    "collapsed": true
   },
   "outputs": [],
   "source": [
    "def fib(n):\n",
    "    #Your code goes here\n",
    "    return 0"
   ]
  },
  {
   "cell_type": "markdown",
   "metadata": {},
   "source": [
    "The ratio of successive elements in the Fibonacci sequence converges to\n",
    "$$\\phi = (1 + \\sqrt{5})/2 ≈ 1.61803\\dots$$\n",
    "which is the famous golden ratio. Your task is to **approximate $\\phi$.**\n",
    "\n",
    "Define a function `phi_approx` that calculates the approximate value of $\\phi$ obtained by the ratio of the $n$-th and $(n−1)$-st elements, $$f_n /f_{n-1} \\approx \\phi$$\n",
    "\n",
    "`phi_approx` should have one variable, $n$. Its return value should be the $n$-th order approximation of $\\phi$."
   ]
  },
  {
   "cell_type": "code",
   "execution_count": null,
   "metadata": {
    "collapsed": true
   },
   "outputs": [],
   "source": [
    "def phi_approx(n):\n",
    "    #Your code goes here\n",
    "    return 1.61803"
   ]
  },
  {
   "cell_type": "markdown",
   "metadata": {},
   "source": [
    "## C. Numpy Arrays - Review of Basics and Some More Advanced Topics"
   ]
  },
  {
   "cell_type": "markdown",
   "metadata": {},
   "source": [
    "The documentation of possible functions that can be applied to integers and floats (i.e. single numbers), as well as *numpy arrays*, can be found here: https://docs.scipy.org/doc/numpy/reference/routines.math.html\n",
    "\n",
    "As discussed previously, there are numerous ways to create arrays beyond np.numpy().  These include:\n",
    "* `np.arange(start_,stop_,step_)`\n",
    "* `np.linspace(first_,last_,num_)`\n",
    "    \n",
    "These create arrays of numbers within a range with a specific step-size between each consecutive number in the array.\n",
    "\n",
    "It is sometimes convenient to have Python create other arrays for you, depending on the problem that you are going to solve.  For example, sometimes it is handy to create an array of all zeros, which can then be replaced later with data. This can be done by using np.zeros().\n",
    "\n",
    "Going back to the Fibonacci example, let's say we want to store the first 10 elements of the Fibonacci sequence in an array for easy access in the future. To ready such an array, you simply do the following."
   ]
  },
  {
   "cell_type": "code",
   "execution_count": null,
   "metadata": {
    "collapsed": false
   },
   "outputs": [],
   "source": [
    "data = np.zeros(10)\n",
    "print(data)"
   ]
  },
  {
   "cell_type": "markdown",
   "metadata": {
    "collapsed": true
   },
   "source": [
    "Now how do we assign a new value to an element of the array? We use the following \"square bracket\" notation:\n",
    "> `array_name[index_number] = value`\n",
    "    \n",
    "This command will replace whatever value is currently in the position corresponding to \"index_number\" in the array called \"array_name\" with the value stored in \"value.\"\n",
    "\n",
    "Arrays are numbered starting from 0, such that\n",
    "\n",
    "* First position = 0\n",
    "* Second position = 1\n",
    "* Third position = 2\n",
    "* etc.\n",
    "\n",
    "It is a bit confusing, but after a bit of time, this becomes quite natural.  Let's practice with the Fibonacci example. \n",
    "\n",
    "First, let's store the first Fibonacci number in our array. We use the brackets to store that value in the first position (0 index number) in the data array we made above."
   ]
  },
  {
   "cell_type": "code",
   "execution_count": null,
   "metadata": {
    "collapsed": false
   },
   "outputs": [],
   "source": [
    "data[0] = fib(0)\n",
    "print(data[0])"
   ]
  },
  {
   "cell_type": "markdown",
   "metadata": {},
   "source": [
    "Now you try it. Store the second Fibonacci number in the second position of your array and use a print statement to verify that you have done so. "
   ]
  },
  {
   "cell_type": "code",
   "execution_count": null,
   "metadata": {
    "collapsed": true
   },
   "outputs": [],
   "source": [
    "#Your code goes here"
   ]
  },
  {
   "cell_type": "markdown",
   "metadata": {},
   "source": [
    "Python array indexing is fairly straightforward once you get the hang of it.\n",
    "\n",
    "Let's say you wanted the last element of the array, but you don't quite recall the size of the array. One of the easiest ways to access that element  is to use negative indexing.\n",
    "\n",
    "Negative indexing is the same as normal indexing, but backward, in the sense that you start with the last element of the array and count forward.  More explicitly, for any array:\n",
    "\n",
    "* array[-1] = last element of array\n",
    "* array[-2] = second to last element of the array\n",
    "* array[-3] = third to last element of the array\n",
    "* etc\n",
    "\n",
    "Now then, let's create an array using `np.arange()` with 10 elements, and see if you can access the last element and the second to last element using negative indexing. Print out these values."
   ]
  },
  {
   "cell_type": "code",
   "execution_count": null,
   "metadata": {
    "collapsed": false
   },
   "outputs": [],
   "source": [
    "#Your code goes here"
   ]
  },
  {
   "cell_type": "markdown",
   "metadata": {},
   "source": [
    "Now, sometimes its useful to access more than one element of an array. Let's say that we have an array with 100 elements in the range [0,10] (including endpoints). If you recall, this can be done via the `np.linspace()` function."
   ]
  },
  {
   "cell_type": "code",
   "execution_count": null,
   "metadata": {
    "collapsed": false,
    "scrolled": true
   },
   "outputs": [],
   "source": [
    "x = np.linspace(0,10,100)"
   ]
  },
  {
   "cell_type": "markdown",
   "metadata": {},
   "source": [
    "Now then, in order to get a range of elements rather than simply a single one, we use the notation:\n",
    "\n",
    "> `x[i_start,i_end+1]`\n",
    "\n",
    "For example, let's say you want the 1st, 2nd, and 3rd element, then you'd have to do\n",
    "\n",
    "> `x[0:3]`\n",
    "\n",
    "In this notation, \":\" represents you want everything between 0 and 3, and including 0. Let's test this."
   ]
  },
  {
   "cell_type": "code",
   "execution_count": null,
   "metadata": {
    "collapsed": false
   },
   "outputs": [],
   "source": [
    "x[0:3]"
   ]
  },
  {
   "cell_type": "markdown",
   "metadata": {},
   "source": [
    "If you want everything passed a certain point of the array (including that point), then you would just eliminate the right number, for example\n",
    "\n",
    "> `x[90:]`\n",
    "\n",
    "would give you everything after (and including) the 90 index element. Similarly, if you want everything before a certain index\n",
    "\n",
    "> `x[:90]`\n",
    "\n",
    "would give you everything before the 90 index element.\n",
    "\n",
    "So, let's say that you would want everything up to and including the tenth element of the array $x$. How would you do that?\n",
    "\n",
    "(Remember, the tenth element has an index of 9)"
   ]
  },
  {
   "cell_type": "code",
   "execution_count": null,
   "metadata": {
    "collapsed": true
   },
   "outputs": [],
   "source": [
    "#Your code goes here"
   ]
  },
  {
   "cell_type": "markdown",
   "metadata": {},
   "source": [
    "Finally, simply using the \":\" gives you all the elements in the array."
   ]
  },
  {
   "cell_type": "markdown",
   "metadata": {},
   "source": [
    "## Challenge 2 - Projectile Motion\n",
    "\n",
    "In this challenge problem, you will be building what is known as a NUMERICAL INTEGRATOR in order to predict the projectiles trajectory through a gravitational field (i.e. what happens when you throw a ball through the air)\n",
    "\n",
    "Let's say that you have a projectile (let's say a ball) in a world with 2 spatial dimensions (dimensions x and y). This world has a constant acceleration due to gravity (call it simply g) that points in the -y direction and has a surface at y = 0.\n",
    "\n",
    "Can we calculate the motion of the projectile in the x-y plane after the projectile is given some initial velocity vector v?  In particular, can we predict where the ball will land? With loops, yes we can!\n",
    "\n",
    "Let's first define all of the relevant variables so far. Let g = -9.8 (units of m/s, so an Earth-like world), the initial velocity vector being an array v = [3.,3.], and an initial position vector (call it r) in the x-y plane of r = [0.,1.]. For ease, let's use *numpy* arrays for the vectors."
   ]
  },
  {
   "cell_type": "code",
   "execution_count": null,
   "metadata": {
    "collapsed": true
   },
   "outputs": [],
   "source": [
    "#Your code here"
   ]
  },
  {
   "cell_type": "markdown",
   "metadata": {},
   "source": [
    "Now then, remember that,\n",
    "\n",
    "$a = \\frac{dv}{dt}$ and thus, $dv = a\\ dt$\n",
    "\n",
    "So, the change of an objects velocity ($dv$) is equal to the acceleration ($a = g$ in this case) multiplied by the change in time ($dt$)\n",
    "\n",
    "Likewise:\n",
    "\n",
    "$v_{x} = \\frac{dx}{dt}$ and $v_{y} = \\frac{dy}{dt}$, or\n",
    "\n",
    "$v_{x}\\ dt = dx$ and $v_{y}\\ dt = dy$\n",
    "\n",
    "Now, in this case, since there is only downward acceleration, the change of $v_{x}$ is 0 until the projective hits the ground.\n",
    "\n",
    "Now, we're going to define two functions, one that will calculate the velocity vector components and the other, the position vector components, and returning a new vector with the new components. I'll give you the first one."
   ]
  },
  {
   "cell_type": "code",
   "execution_count": null,
   "metadata": {
    "collapsed": false
   },
   "outputs": [],
   "source": [
    "def intV(v,g,dt):\n",
    "    deltaVy = g*dt\n",
    "    vXnew = v[0]\n",
    "    vYnew = v[1]+deltaVy\n",
    "    return np.array([vXnew,vYnew])"
   ]
  },
  {
   "cell_type": "markdown",
   "metadata": {},
   "source": [
    "Now that we've defined intV (short for \"integrate v\"), let's use it real quick, just to test it out. Let dt = 0.1 (meaning, your taking a step forward in time by 0.1 seconds)."
   ]
  },
  {
   "cell_type": "code",
   "execution_count": null,
   "metadata": {
    "collapsed": false
   },
   "outputs": [],
   "source": [
    "dt = 0.1\n",
    "intV(v,g,dt)"
   ]
  },
  {
   "cell_type": "markdown",
   "metadata": {},
   "source": [
    "As you can see, $V_{x}$ hasn't changed, but $V_{y}$ has decreased, representing the projectile slowing down as it's going upward. \n",
    "\n",
    "I'll let you define the function now for the position vector. Call it intR, and it should be a function of (r,v,dt), and remember that now both $r_{x}$ and $r_{y}$ are changing. Remember to return an array."
   ]
  },
  {
   "cell_type": "code",
   "execution_count": null,
   "metadata": {
    "collapsed": true
   },
   "outputs": [],
   "source": [
    "#Your code goes here"
   ]
  },
  {
   "cell_type": "markdown",
   "metadata": {},
   "source": [
    "Now we have the functions that calculate the changes in the position and velocity vectors. We're almost there!\n",
    "\n",
    "Now, we will need a while-loop in order to step the projectile through its trajectory. What would the condition be?\n",
    "\n",
    "Well, we know that the projectile stops when it hits the ground. So, one way we can do this is to have the condition being (`r[1] >= 0`),  since the ground is defined at y = 0.\n",
    "\n",
    "So, having your intV and intR functions, along with a while-loop and a dt = 0.1 (known as the \"step-size\"), can you use Python to predict where the projectile will land?"
   ]
  },
  {
   "cell_type": "code",
   "execution_count": null,
   "metadata": {
    "collapsed": false
   },
   "outputs": [],
   "source": [
    "#Your code goes here"
   ]
  },
  {
   "cell_type": "markdown",
   "metadata": {},
   "source": [
    "Now, note that we've defined the while-loop such that it doesn't stop exactly at 0. Firstly, this was strategic, since the initial y = 0, and thus the while-loop wouldn't initialize to begin with (you can try to change it). One way you can overcome this issue is to decrease dt, meaning that you're letting less time pass between each step. Ideally, you'd want dt to be infinitely small, but we don't have that convenience in reality.  Re-run the cells, but with dt = 0.01 and we will get much closer to the correct answer.\n",
    "\n",
    "So, we know where it's going to land...can we plot the full trajectory?  Yes, but this is a bit complicated, and requires one last function: `np.append()`.  https://docs.scipy.org/doc/numpy/reference/generated/numpy.append.html\n",
    "\n",
    "The idea is to use `np.append()` to make an array that keeps track of where the ball has been.\n",
    "\n",
    "Let's define two empty arrays that will store our information (x and y). This is an odd idea, defining an array variable without any elements, so instead think of it as a basket without anything inside of it yet, and we will `np.append()` to fill it."
   ]
  },
  {
   "cell_type": "code",
   "execution_count": null,
   "metadata": {
    "collapsed": false
   },
   "outputs": [],
   "source": [
    "x = np.array([]) #defining an empty array that will store x position\n",
    "y = np.array([]) #defining an empty array that will store y position"
   ]
  },
  {
   "cell_type": "markdown",
   "metadata": {},
   "source": [
    "Now, all you have to do, is each time the while-loop executes, you use `np.append()` for the x and y arrays, adding the new values to the end of them.\n",
    "\n",
    "How do you do that? Well, looking at the `np.append()` documentation, for x, you do\n",
    "`x = np.append(x,[r[0]])`\n",
    "\n",
    "The same syntax is used for the y array.\n",
    "\n",
    "After that, you simply use `plt.plot(x,y,'o')` to plot the trajectory of the ball (the last 'o' is used to change the plotting from a line to points).\n",
    "\n",
    "Good luck!  Also, don't forget to reset your v and r arrays (otherwise, this will not work)"
   ]
  },
  {
   "cell_type": "code",
   "execution_count": null,
   "metadata": {
    "collapsed": false
   },
   "outputs": [],
   "source": [
    "#Your code goes here"
   ]
  },
  {
   "cell_type": "markdown",
   "metadata": {},
   "source": [
    "If everything turns out alright, you should get the characteristic parabola.\n",
    "\n",
    "Also, if you're going to experiment with changing the intial position and velocity, remember to re-run the cell where we define the x and y arrays in order to clear the plot.\n",
    "\n",
    "Now you've learned how to do numerical integration. This technique is used all throughout Physics and Astronomy, and while there are more advanced ways to do it in order to increase accuracy, the heart of the idea is the same.\n",
    "\n",
    "Here is a figure made by Corbin Taylor that used numerical integration to track the position of a ray of light as it falls into a spinning black hole."
   ]
  },
  {
   "cell_type": "markdown",
   "metadata": {},
   "source": [
    "<img src=\"./raytrace_picture.jpg\">"
   ]
  },
  {
   "cell_type": "markdown",
   "metadata": {},
   "source": [
    "## D. Loading And Saving Data Arrays\n",
    "\n",
    "So, we have learned a lot about data arrays and how we can manipulate them, either through mathematics or indexing. However, up until this point, all we've done is use arrays that we ourselves created. But what happens if we have data from elsewhere?  Can Python use that?\n",
    "\n",
    "The answer is of course yes, and while there are ways to import data that are a bit complicated at times, we're going to teach you some of the most basic, and most useful, ways.\n",
    "\n",
    "For this section, we will be using plotting to visualize the data as you're working with it, and as such, we will be loading in the package \"matplotlib.pyplot\" which you used in Lecture 1"
   ]
  },
  {
   "cell_type": "code",
   "execution_count": null,
   "metadata": {
    "collapsed": false
   },
   "outputs": [],
   "source": [
    "%matplotlib inline\n",
    "import matplotlib.pyplot as plt"
   ]
  },
  {
   "cell_type": "markdown",
   "metadata": {},
   "source": [
    "Now then, let's say we are doing a timing experiment, where we look at the *brightness* of an object as a function of *time*. This is actually a very common type of measurement that you may do in research, such as looking for dips in the brightness of stars as a way to detect planets.\n",
    "\n",
    "This data is stored in a text file named `timeseries_data.txt` in the directory `lecture2_data`. Let's load it in."
   ]
  },
  {
   "cell_type": "code",
   "execution_count": null,
   "metadata": {
    "collapsed": true
   },
   "outputs": [],
   "source": [
    "timeseriesData = np.loadtxt(\"./lecture2_data/timeseries_data.txt\")"
   ]
  },
  {
   "cell_type": "markdown",
   "metadata": {},
   "source": [
    "Now we have the data loaded into Python as a *numpy* array, and one handy thing you can do is to use Python to find the dimensions of the array. This is done by using \".shape\" as so."
   ]
  },
  {
   "cell_type": "code",
   "execution_count": null,
   "metadata": {
    "collapsed": false
   },
   "outputs": [],
   "source": [
    "timeseriesData.shape"
   ]
  },
  {
   "cell_type": "markdown",
   "metadata": {},
   "source": [
    "In this format, we know that this is a 2x1000 array (two rows, 1000 columns). Another way you can think about this is that you have two 1000-element arrays contained within another array, where each of those arrays are elements (think of it as an array of arrays).\n",
    "\n",
    "The first row is the time stamps when each measurement was taken, while the second row is that of the value of the measurement itself.\n",
    "\n",
    "For ease of handling this data, one can in principle take each of these rows and create new arrays out of them.  Let's do just that."
   ]
  },
  {
   "cell_type": "code",
   "execution_count": null,
   "metadata": {
    "collapsed": true
   },
   "outputs": [],
   "source": [
    "t = timeseriesData[0,:]\n",
    "signal = timeseriesData[1,:]"
   ]
  },
  {
   "cell_type": "markdown",
   "metadata": {},
   "source": [
    "Here, you have 2 dimensions with the array `timeseriesData`, and as such much specify the row first and then the column. So,\n",
    "- `array_name[n,:]` is the n-th row, and all columns within that row.\n",
    "- `array_name[:,n]` is the n-th column, and all rows within that particular column.\n",
    "\n",
    "Now then, let's see what the data looks like using the `plot()` function that you learned last time. Do you remember how to do it? Why don't you try! Plot `t` as your x-axis and `signal` as your y-axis. Don't forget to show your plot. "
   ]
  },
  {
   "cell_type": "code",
   "execution_count": null,
   "metadata": {
    "collapsed": false,
    "scrolled": true
   },
   "outputs": [],
   "source": [
    "#Your code goes here"
   ]
  },
  {
   "cell_type": "markdown",
   "metadata": {},
   "source": [
    "Looking at our data, you see clear spikes that jump well above most of the signal. (I've added this to the data to represent outliers that may sometimes appear when you're messing with raw data, and those must be dealt with). In astronomy, you sometimes have relativistic charged particles, not from your source, that hit the detector known as cosmic rays, and we often have to remove these.\n",
    "\n",
    "There are some very complex codes that handle cosmic rays, but for our purposes (keeping it easy), we're going to just set a hard cut off of, let's say 15.\n",
    "\n",
    "In order to do this, we can use *conditional indexing* in place of normal indices. This involves taking a *conditional statement* (more on those later) and testing whether it evaluates to True on each element in the array.\n",
    "\n",
    "This gives an array of Booleans, which we can use as *logical indices* to select **only** the entries for which the logical statement is True. "
   ]
  },
  {
   "cell_type": "code",
   "execution_count": null,
   "metadata": {
    "collapsed": false
   },
   "outputs": [],
   "source": [
    "cutOff = 15.\n",
    "signalFix = signal[signal < cutOff]"
   ]
  },
  {
   "cell_type": "markdown",
   "metadata": {},
   "source": [
    "In this case, the *conditional statement* that we have used is `signal < cutOff`. \n",
    "\n",
    "Here, *conditional indexing* keeps the data that we have deemed \"good\" by this criteria. We can also do the same for the corresponding time stamps, since `t` and `signal` have the same length. "
   ]
  },
  {
   "cell_type": "code",
   "execution_count": null,
   "metadata": {
    "collapsed": true
   },
   "outputs": [],
   "source": [
    "tFix = t[signal < cutOff]"
   ]
  },
  {
   "cell_type": "markdown",
   "metadata": {},
   "source": [
    "Now let's plot it.  You try."
   ]
  },
  {
   "cell_type": "code",
   "execution_count": null,
   "metadata": {
    "collapsed": false,
    "scrolled": true
   },
   "outputs": [],
   "source": [
    "#Your code goes here"
   ]
  },
  {
   "cell_type": "markdown",
   "metadata": {},
   "source": [
    "Now that you have your data all cleaned up, it would be nice if we could save it for later and not have to go through the process of cleaning it up every time.  Fear not!  Python has you covered.\n",
    "\n",
    "There are two formats that we are going to cover, one that is Python-specific, and the other a simple text format.\n",
    "\n",
    "First, we must package our two cleaned up arrays into one again. This can be done simply with the np.array() function."
   ]
  },
  {
   "cell_type": "code",
   "execution_count": null,
   "metadata": {
    "collapsed": true
   },
   "outputs": [],
   "source": [
    "dataFix = np.array([tFix,signalFix])"
   ]
  },
  {
   "cell_type": "markdown",
   "metadata": {},
   "source": [
    "Then, we can use either the `np.save()` function or the `np.savetxt` function, the first saving the array into a '.npy' file and the other, into a '.txt' file. The syntax is pretty much the same for each."
   ]
  },
  {
   "cell_type": "code",
   "execution_count": null,
   "metadata": {
    "collapsed": false
   },
   "outputs": [],
   "source": [
    "np.save('./lecture2_data/dataFix.npy',dataFix)\n",
    "np.savetxt('./lecture2_data/dataFix.txt',dataFix)"
   ]
  },
  {
   "cell_type": "markdown",
   "metadata": {},
   "source": [
    "Now that your data files are saved, you can load them up again, using `np.loadtxt()` and `np.load()` for .txt and .npy files respectively. We used `np.loadtxt()` above, and np.load works the same way. So, let's load in the .npy file and see if our data was saved correctly."
   ]
  },
  {
   "cell_type": "code",
   "execution_count": null,
   "metadata": {
    "collapsed": false
   },
   "outputs": [],
   "source": [
    "data = np.load('./lecture2_data/dataFix.npy')\n",
    "t = data[0,:]\n",
    "signal = data[1,:]\n",
    "plt.plot(t,signal)\n",
    "plt.show()"
   ]
  },
  {
   "cell_type": "markdown",
   "metadata": {},
   "source": [
    "Now, let's see if you can do the same thing, but with the .txt file that we saved."
   ]
  },
  {
   "cell_type": "code",
   "execution_count": null,
   "metadata": {
    "collapsed": true
   },
   "outputs": [],
   "source": [
    "#Your code goes here"
   ]
  },
  {
   "cell_type": "markdown",
   "metadata": {},
   "source": [
    "So, to summarize, not only can you manipulate arrays, but now you can save them and load them. In a way, those are some of the most important skills in scientific computing. Almost everything you'll be doing requires you know this, and now that you've mastered it, you're well on your way to being an expert in computational physics and astronomy!"
   ]
  }
 ],
 "metadata": {
  "anaconda-cloud": {},
  "kernelspec": {
   "display_name": "Python [conda root]",
   "language": "python",
   "name": "conda-root-py"
  },
  "language_info": {
   "codemirror_mode": {
    "name": "ipython",
    "version": 3
   },
   "file_extension": ".py",
   "mimetype": "text/x-python",
   "name": "python",
   "nbconvert_exporter": "python",
   "pygments_lexer": "ipython3",
   "version": "3.5.2"
  }
 },
 "nbformat": 4,
 "nbformat_minor": 1
}
