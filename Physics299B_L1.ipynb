{
 "cells": [
  {
   "cell_type": "markdown",
   "metadata": {},
   "source": [
    "# Introduction to \"Doing Science\" in Python for REAL Beginners "
   ]
  },
  {
   "cell_type": "markdown",
   "metadata": {},
   "source": [
    "Python is one of many languages you can use for research and HW purposes. In the next two lectures, we will work through many of the tool, tips, and tricks that we as graduate students (and PhD researchers) use on a daily basis. We will NOT attempt to teach you all of Python--there isn't time. We will however build up a set of code(s) that will allow you to read and write data, make beautiful publish-worthy plots, fit a line (or any function) to data, and set up algorithms. You will also begin to learn the syntax of Python and can hopefuly apply this knowledge to your current and future work. "
   ]
  },
  {
   "cell_type": "markdown",
   "metadata": {},
   "source": [
    "## Before we begin, a few words on navigating the iPython Notebook:\n",
    "\n",
    "* There are two main types of cells : Code and Text \n",
    "* In \"code\" cells \"#\" at the beginning of a line marks the line as comment\n",
    "* In \"code\" cells every non commented line is intepreted\n",
    "* In \"code\" cells, commands that are preceded by % are \"magics\" and are special commands in Ipython to add some functionality to the runtime interactive environment.\n",
    "* Shift+Return shortcut to execute a cell\n",
    "* Alt+Return   shortcut to execute a cell and create another one below\n",
    "\n",
    "Here you can find a complete documentation about the notebook. \n",
    "http://ipython.org/ipython-doc/1/interactive/notebook.html\n",
    "In particular have a look at the section about the keyboard shortcuts.\n",
    "\n",
    "\n",
    "## And remember that :\n",
    "* Indentation has a meaning ( we'll talk about this when we cover loops)\n",
    "* Indexes start from 0  ( similar to C )\n",
    "\n",
    "We will discuss more about these concepts while doing things. Let's get started now!!!!"
   ]
  },
  {
   "cell_type": "markdown",
   "metadata": {},
   "source": [
    "## A. Numbers and Calculations"
   ]
  },
  {
   "cell_type": "markdown",
   "metadata": {},
   "source": [
    "Note: To insert comments to yourself (this is always a great idea), use the # symbol."
   ]
  },
  {
   "cell_type": "code",
   "execution_count": null,
   "metadata": {
    "collapsed": false
   },
   "outputs": [],
   "source": [
    "## You can use Python as a calculator:\n",
    "5*7  #This is a comment and does not affect your code.\n",
    "#You can have as many as you want. \n",
    "#No worries. "
   ]
  },
  {
   "cell_type": "code",
   "execution_count": null,
   "metadata": {
    "collapsed": false
   },
   "outputs": [],
   "source": [
    "5+7"
   ]
  },
  {
   "cell_type": "code",
   "execution_count": null,
   "metadata": {
    "collapsed": false
   },
   "outputs": [],
   "source": [
    "5-7"
   ]
  },
  {
   "cell_type": "code",
   "execution_count": null,
   "metadata": {
    "collapsed": true
   },
   "outputs": [],
   "source": [
    "5/7"
   ]
  },
  {
   "cell_type": "markdown",
   "metadata": {},
   "source": [
    "These simple operations on numbers in Python 3 works exactly as you'd expect, but that's not true across all programming languages.\n",
    "\n",
    "For example, in Python 2, an older version of Python that is still used often in scientific programming:\n",
    "\n",
    "$5/7$ $\\neq$ $5./7$\n",
    "\n",
    "The two calculations below would be equal on most calculators, but they are not equal to Python 2 and many other languages. The first, $5/7$ is division between integers and the answer will be an integer. The second, $5./7$ is division between a float (a number with a decimal) and an integer.\n",
    "\n",
    "In Python 2,\n",
    "\n",
    "$5/7$ = $0$\n",
    "\n",
    "Since division of integers must return an integer, in this case 0.  This is not the same for 5./7, which is\n",
    "\n",
    "$5./7$ = $0.7142857142857143$\n",
    "\n",
    "This is something to keep in mind when working with programming languages, but Python 3 takes care of this for you.\n",
    "\n",
    "However, for the sake of consistency, it is best to use float division rather than integer division.\n"
   ]
  },
  {
   "cell_type": "markdown",
   "metadata": {},
   "source": [
    "Let's assign some variables and **print()** them to the screen."
   ]
  },
  {
   "cell_type": "code",
   "execution_count": null,
   "metadata": {
    "collapsed": false
   },
   "outputs": [],
   "source": [
    "a = 5\n",
    "b = 7"
   ]
  },
  {
   "cell_type": "code",
   "execution_count": null,
   "metadata": {
    "collapsed": false
   },
   "outputs": [],
   "source": [
    "print(a)"
   ]
  },
  {
   "cell_type": "code",
   "execution_count": null,
   "metadata": {
    "collapsed": false
   },
   "outputs": [],
   "source": [
    "print(b)"
   ]
  },
  {
   "cell_type": "code",
   "execution_count": null,
   "metadata": {
    "collapsed": false
   },
   "outputs": [],
   "source": [
    "print(a*b , a+b, a/b)"
   ]
  },
  {
   "cell_type": "code",
   "execution_count": null,
   "metadata": {
    "collapsed": false
   },
   "outputs": [],
   "source": [
    "a = 5.\n",
    "b = 7\n",
    "print(a*b, a+b, a/b)"
   ]
  },
  {
   "cell_type": "markdown",
   "metadata": {},
   "source": [
    "Next, let's create a list of numbers and do math to that list. "
   ]
  },
  {
   "cell_type": "code",
   "execution_count": null,
   "metadata": {
    "collapsed": false
   },
   "outputs": [],
   "source": [
    "c = [0,1,2,3,4,5,6,7,8,9]\n",
    "print(c)"
   ]
  },
  {
   "cell_type": "markdown",
   "metadata": {},
   "source": [
    "How many elements or numbers does the list c contain? Yes, this is easy to count now, but you will eventually work with lists that contains MANY numbers. To get the *length* of a list (or array), use **len()**."
   ]
  },
  {
   "cell_type": "code",
   "execution_count": null,
   "metadata": {
    "collapsed": false
   },
   "outputs": [],
   "source": [
    "len(c)"
   ]
  },
  {
   "cell_type": "markdown",
   "metadata": {},
   "source": [
    "What exactly is c? It looks like an array because of the square brackets, but it isn't. To see what any variable is, use **type()**. "
   ]
  },
  {
   "cell_type": "code",
   "execution_count": null,
   "metadata": {
    "collapsed": false
   },
   "outputs": [],
   "source": [
    "type(c) #pick a variable: a, b, or c and type it in the parentheses "
   ]
  },
  {
   "cell_type": "markdown",
   "metadata": {},
   "source": [
    "Now, some math... Let's square each value in c and put those values in a new list called d. To square a variable (or number), you use \\*\\*. So $3^{**}2=9$. The rest of the math operations (+ / - x) are 'normal.'"
   ]
  },
  {
   "cell_type": "code",
   "execution_count": null,
   "metadata": {
    "collapsed": false
   },
   "outputs": [],
   "source": [
    "d = c**2"
   ]
  },
  {
   "cell_type": "markdown",
   "metadata": {},
   "source": [
    "This should not have worked. Why? The short answer is that a list is very useful, but it is not an array. However, you can convert your lists to arrays (and back again if you feel you need to). In order to do this conversion (and just about anything else), we need something extra. \n",
    "\n",
    "Python is a fantastic language because it is very powerful and flexible. Also, it is like modular furniture or modular building. You have the Python foundation and choose which modules you want/need and load them before you start working. One of the most loved here at UMD is the NumPy module (pronounced num-pie). This is the something extra (the module), that we need. For more information, see www.numpy.org/. \n",
    "\n",
    "When we plot this data below, we will also need a module for plotting. \n",
    "\n",
    "First, let us *import NumPy*. "
   ]
  },
  {
   "cell_type": "code",
   "execution_count": null,
   "metadata": {
    "collapsed": false
   },
   "outputs": [],
   "source": [
    "import numpy "
   ]
  },
  {
   "cell_type": "markdown",
   "metadata": {},
   "source": [
    "To convert our list $c = [0,1,2,3,4,5,6,7,8,9]$ to an array we use **numpy.array()**,"
   ]
  },
  {
   "cell_type": "code",
   "execution_count": null,
   "metadata": {
    "collapsed": false
   },
   "outputs": [],
   "source": [
    "c = numpy.array(c)"
   ]
  },
  {
   "cell_type": "code",
   "execution_count": null,
   "metadata": {
    "collapsed": false
   },
   "outputs": [],
   "source": [
    "d = c**2\n",
    "print(d)"
   ]
  },
  {
   "cell_type": "code",
   "execution_count": null,
   "metadata": {
    "collapsed": false
   },
   "outputs": [],
   "source": [
    "type(d)"
   ]
  },
  {
   "cell_type": "markdown",
   "metadata": {},
   "source": [
    "Great! However, typing numpy over and over again can get tiresome, so we can import it and give it a shorter name. It is common to use the following:"
   ]
  },
  {
   "cell_type": "code",
   "execution_count": null,
   "metadata": {
    "collapsed": false
   },
   "outputs": [],
   "source": [
    "import numpy as np"
   ]
  },
  {
   "cell_type": "markdown",
   "metadata": {},
   "source": [
    "In this notation, converting a list to an array would be np.array(c). \n"
   ]
  },
  {
   "cell_type": "markdown",
   "metadata": {},
   "source": [
    "## B. Our first plot! "
   ]
  },
  {
   "cell_type": "markdown",
   "metadata": {},
   "source": [
    "Now lets make a quick plot! We'll use the values from our list turned array, $c$, and plot $c^2$. "
   ]
  },
  {
   "cell_type": "code",
   "execution_count": null,
   "metadata": {
    "collapsed": false
   },
   "outputs": [],
   "source": [
    "%matplotlib inline\n",
    "import matplotlib\n",
    "import matplotlib.pyplot as plt\n"
   ]
  },
  {
   "cell_type": "code",
   "execution_count": null,
   "metadata": {
    "collapsed": false
   },
   "outputs": [],
   "source": [
    "x = c\n",
    "y = d\n",
    "\n",
    "p = plt.plot(x,y)"
   ]
  },
  {
   "cell_type": "code",
   "execution_count": null,
   "metadata": {
    "collapsed": false
   },
   "outputs": [],
   "source": [
    "p = plt.plot(x,y**2)"
   ]
  },
  {
   "cell_type": "markdown",
   "metadata": {},
   "source": [
    "## C. Arrays of numbers"
   ]
  },
  {
   "cell_type": "markdown",
   "metadata": {},
   "source": [
    "You can also create arrays of numbers using NumPy. Two very useful ways to create arrays are by selecting the interval you care about (say, 0 to 10) and either specifying how far apart you want your values to be (numpy.arange), OR the total number of values you want (np.linspace). Let's look at some examples."
   ]
  },
  {
   "cell_type": "code",
   "execution_count": null,
   "metadata": {
    "collapsed": false
   },
   "outputs": [],
   "source": [
    "np.arange(0,10,2) #here the step size is 2. So you'll get even numbers."
   ]
  },
  {
   "cell_type": "code",
   "execution_count": null,
   "metadata": {
    "collapsed": false
   },
   "outputs": [],
   "source": [
    "np.linspace(0,10,2) #here you're asking for 2 values. Guess what they'll be!"
   ]
  },
  {
   "cell_type": "markdown",
   "metadata": {},
   "source": [
    "Next make an array with endpoints 0 and 1 (include 0 and 1), that has 50 values in it. You can use either (both?) np.arange or np.linspace. Which is easier to you? How many numbers do you get? Are these numbers integers or floats (decimal place)?"
   ]
  },
  {
   "cell_type": "code",
   "execution_count": null,
   "metadata": {
    "collapsed": false
   },
   "outputs": [],
   "source": []
  },
  {
   "cell_type": "code",
   "execution_count": null,
   "metadata": {
    "collapsed": false
   },
   "outputs": [],
   "source": []
  },
  {
   "cell_type": "markdown",
   "metadata": {},
   "source": [
    "Next make an array with endpoints 0 and 2.5 (include 0 and 2.5), that has values spaced out in increments of 0.05. For example: 0, 0.05, 0.1, 0.15...  You can use either np.arange or np.linspace. Which is easier to you? How many numbers do you get? Are these numbers integers or floats (decimal place)?"
   ]
  },
  {
   "cell_type": "code",
   "execution_count": null,
   "metadata": {
    "collapsed": false
   },
   "outputs": [],
   "source": []
  },
  {
   "cell_type": "code",
   "execution_count": null,
   "metadata": {
    "collapsed": false
   },
   "outputs": [],
   "source": []
  },
  {
   "cell_type": "markdown",
   "metadata": {},
   "source": [
    "Next, let's plot these two arrays. Call them $a$ and $b$, or $x$ and $y$ (whichever you prefer--this is your code!), for example: a = np.linspace(). Fill in the missing bits in the code below. "
   ]
  },
  {
   "cell_type": "code",
   "execution_count": null,
   "metadata": {
    "collapsed": false
   },
   "outputs": [],
   "source": [
    "import ___ as np\n",
    "\n",
    "%matplotlib inline\n",
    "import matplotlib\n",
    "import matplotlib.pyplot as plt\n",
    "\n",
    "___ = np.linspace(____)\n",
    "___ = np.arange(____)\n",
    "\n",
    "# Clear the plotting field. \n",
    "plt.clf() # No need to add anything inside these parentheses. \n",
    "\n",
    "plt.plot(__,__,'ro')  # The 'ro' says you want to use Red o plotting symbols. \n"
   ]
  },
  {
   "cell_type": "markdown",
   "metadata": {},
   "source": [
    "For all the possible plotting symbols, see: http://matplotlib.org/api/markers_api.html. Next, let's plot the positive half of a circle. "
   ]
  },
  {
   "cell_type": "code",
   "execution_count": null,
   "metadata": {
    "collapsed": false
   },
   "outputs": [],
   "source": [
    "import ___ as np\n",
    "\n",
    "%matplotlib inline\n",
    "import matplotlib\n",
    "import matplotlib.pyplot as plt\n",
    "\n",
    "x = np.linspace(-1,1,100)\n",
    "y = np.sqrt(______)\n",
    "\n",
    "# Clear the plotting field. \n",
    "plt.clf() # No need to add anything inside these parentheses. \n",
    "\n",
    "plt.plot(x,y,'ro')  # The 'ro' says you want to use Red o plotting symbols. \n",
    "plt.xlim([-2,2])\n",
    "plt.ylim([-2,2])\n",
    "\n"
   ]
  },
  {
   "cell_type": "markdown",
   "metadata": {},
   "source": [
    "## D. A more complicated function: The Planck Blackbody Curve"
   ]
  },
  {
   "cell_type": "markdown",
   "metadata": {},
   "source": [
    "Any object at a temperature above absolute zero (at 0 Kelvin, atoms stop moving), emits light of all wavelengths with varying degrees of efficiency. Recall that light is electromagnetic radiation. We see this radiation with our eyes when the wavelength is 400-700 nm, and we feel it as heat when the wavelength is 700 nm - 1mm. A blackbody is an object that is a perfect emitter. This means that it perfectly absorbs any energy that hits it and re-emits this energy over ALL wavelengths. The spectrum of a blackbody looks like a rainbow to our eyes. \n",
    "\n",
    "The expression for this \"rainbow\" over all wavelengths is given by,\n",
    "\n",
    "$$\n",
    "B(\\lambda,T) = \\dfrac{2hc^2}{\\lambda^5} \\dfrac{1}{e^{\\frac{hc}{\\lambda kT}}-1}\n",
    "$$\n",
    "\n",
    "where $\\lambda$ is the wavelength, $T$ is the temperature of the object, $h$ is Planck's constant, $c$ is the speed of light, and $k$ is the Boltzmann constant. \n",
    "\n",
    "https://en.wikipedia.org/wiki/Black-body_radiation"
   ]
  },
  {
   "cell_type": "markdown",
   "metadata": {},
   "source": [
    "### Plotting a blackbody curve:\n",
    "\n",
    "First, let us look at code that might be confusing to read later on. "
   ]
  },
  {
   "cell_type": "code",
   "execution_count": null,
   "metadata": {
    "collapsed": false
   },
   "outputs": [],
   "source": [
    "import numpy as np\n",
    "import matplotlib\n",
    "import matplotlib.pyplot as plt\n",
    "\n",
    "x = np.linspace(100,2000,10000)*1e-9  #wavelength, we want a range of 100 nm to 10000 nm, but in METERS\n",
    "\n",
    "Blam = 2.0*6.626e-34*2.998e8**2/x**5/(np.exp(6.626e-34*2.998e8/(x*1.381e-23*5800.0))-1.0)\n",
    "\n",
    "plt.clf()\n",
    "p = plt.plot(x*1e9,Blam)  #we multiply by 1e9 so that the x axis shows nm\n",
    "xl = plt.xlabel('Wavelength (nm)')\n",
    "yl = plt.ylabel('Spectral Radiance ()')  #What are the units?\n"
   ]
  },
  {
   "cell_type": "markdown",
   "metadata": {},
   "source": [
    "Would this code be easy to edit for other temperatures? \n",
    "\n",
    "Now, let's look at code that does the same thing, but is more documented:"
   ]
  },
  {
   "cell_type": "code",
   "execution_count": null,
   "metadata": {
    "collapsed": false
   },
   "outputs": [],
   "source": [
    "import numpy as np\n",
    "import matplotlib\n",
    "import matplotlib.pyplot as plt\n",
    "\n",
    "# Constants in MKS (meters, kilograms, & seconds)\n",
    "\n",
    "h = 6.626e-34   # J s \n",
    "c = 2.998e8    # m/s\n",
    "k = 1.381e-23   # J/K\n",
    "\n",
    "# Let's pick the sun. YOU will need to PICK the temperature and then a range of\n",
    "# frequencies or wavelengths that \"make sense\" for that temperature. \n",
    "# We know that the sun peaks in visible part of the spectrum. This wavelength \n",
    "# is close to 500 nm. Let's have the domain (x values) go from 100 nm to 2000 nm. \n",
    "# 1 nm = 10^-9 m = 10^-7 cm. \n",
    "\n",
    "lam = np.linspace(100,2000,10000)*1e-9 #wavelength in nm\n",
    "nu = c/lam\n",
    "T = 5800.0\n",
    "\n",
    "exp = np.exp(h*c/(lam*k*T))\n",
    "num = 2.0 * h * c**2 \n",
    "denom = lam**5 * (exp - 1.0)\n",
    "\n",
    "Blam = num/denom\n",
    "\n",
    "plt.clf()\n",
    "p = plt.plot(lam*1e9,Blam)\n",
    "xl = plt.xlabel('Wavelength (nm)')\n",
    "yl = plt.ylabel(r'Spectral Radiance (W m$^{-3}$)')  #What are the units?\n",
    "\n",
    "# Try a log-log plot. \n",
    "#p = plt.loglog(wav,Bnu)"
   ]
  },
  {
   "cell_type": "markdown",
   "metadata": {},
   "source": [
    "### Plotting Multiple Curves:"
   ]
  },
  {
   "cell_type": "code",
   "execution_count": null,
   "metadata": {
    "collapsed": false
   },
   "outputs": [],
   "source": [
    "import numpy as np\n",
    "import matplotlib\n",
    "import matplotlib.pyplot as plt\n",
    "\n",
    "# Constants in MKS (meters, kilograms, & seconds)\n",
    "\n",
    "h = 6.626e-34   # \n",
    "c = 2.998e8    # m/s\n",
    "k = 1.381e-23   # J/K\n",
    "\n",
    "# Let's try to recreate the plot above. \n",
    "# Pick temperatures: T1 = 7000 K , T2= 5800 K, and T3 = 4000 K. \n",
    "# Let's have the domain (x values) go from 100 nm to 2000 nm. \n",
    "# 1 nm = 10^-9 m. \n",
    "\n",
    "wav = np.linspace(100,2000,10000)*1e-9  #in meters\n",
    "\n",
    "T1 = 7000.\n",
    "T2 = 5800.\n",
    "T3 = 4000.\n",
    "\n",
    "num = 2.0 * h * c**2 \n",
    "\n",
    "exp1 = np.exp(h*c/(wav*k*T1))\n",
    "denom1 = wav**5 * (exp1 - 1.0)\n",
    "\n",
    "exp2 = np.exp(h*c/(wav*k*T2))\n",
    "denom2 = wav**5 * (exp2 - 1.0)\n",
    "\n",
    "exp3 = np.exp(h*c/(wav*k*T3))\n",
    "denom3 = wav**5 * (exp3 - 1.0)\n",
    "\n",
    "Bnu1 = num/denom1\n",
    "Bnu2 = num/denom2\n",
    "Bnu3 = num/denom3\n",
    "\n",
    "plt.clf()\n",
    "p1 = plt.plot(wav*1e9,Bnu1,label='T =7000 K')\n",
    "p2 = plt.plot(wav*1e9,Bnu2,label='T = 5800 K')\n",
    "p3 = plt.plot(wav*1e9,Bnu3,label='T = 4000 K')\n",
    "xl = plt.xlabel('Wavelength (nm)')\n",
    "yl = plt.ylabel(r'Spectral Radiance (W m$^{-3}$)')\n",
    "l = plt.legend()\n",
    "\n"
   ]
  },
  {
   "cell_type": "markdown",
   "metadata": {},
   "source": [
    "**Next, let's have you try an example.** We mentioned above that wavelength and frequency are related by the speed of light,\n",
    "$$\n",
    "c = \\lambda \\nu.\n",
    "$$\n",
    "\n",
    "We also described a blackbody in terms of the wavelength. However, we can also describe a blackbody in terms of frequency,\n",
    "\n",
    "$$\n",
    "B(\\nu,T) = \\dfrac{2h\\nu^3}{c^2} \\dfrac{1}{e^{\\frac{h\\nu}{kT}}-1}.\n",
    "$$\n",
    "\n",
    "We can do this because\n",
    "$$\n",
    "B_\\nu d\\nu = B_\\lambda d\\lambda\n",
    "$$\n",
    "where\n",
    "$$\n",
    "\\nu = \\frac{c}{\\lambda} \\quad \\text{and} \\quad \\frac{d\\nu}{d\\lambda} = \\left| - \\frac{c}{\\lambda^2}\\right|.\n",
    "$$\n",
    "\n",
    "\n",
    "### EXERCISE: Make the same plot above (for 3 separate temperatures) with the x axis showing frequency (in Hertz). \n"
   ]
  },
  {
   "cell_type": "code",
   "execution_count": null,
   "metadata": {
    "collapsed": false
   },
   "outputs": [],
   "source": [
    "import numpy as np\n",
    "import matplotlib\n",
    "import matplotlib.pyplot as plt\n",
    "\n",
    "# Constants in MKS (meters, kilograms, & seconds)\n",
    "\n",
    "h = 6.626e-34   # \n",
    "c = 2.998e8    # m/s\n",
    "k = 1.381e-23   # J/K\n",
    "\n",
    "# Let's try to recreate the plot above. \n",
    "# Pick three temperatures. \n",
    "# Decide on a domain in Hertz (frequency) that makes sense. \n",
    "# c = nu x lambda, nu = c/lambda\n",
    "\n",
    "#### Put your code here ###\n"
   ]
  }
 ],
 "metadata": {
  "anaconda-cloud": {},
  "kernelspec": {
   "display_name": "Python [default]",
   "language": "python",
   "name": "python3"
  },
  "language_info": {
   "codemirror_mode": {
    "name": "ipython",
    "version": 3
   },
   "file_extension": ".py",
   "mimetype": "text/x-python",
   "name": "python",
   "nbconvert_exporter": "python",
   "pygments_lexer": "ipython3",
   "version": "3.5.2"
  }
 },
 "nbformat": 4,
 "nbformat_minor": 0
}
